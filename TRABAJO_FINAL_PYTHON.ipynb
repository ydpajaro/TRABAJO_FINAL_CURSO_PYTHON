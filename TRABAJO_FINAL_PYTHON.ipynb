{
  "nbformat": 4,
  "nbformat_minor": 0,
  "metadata": {
    "colab": {
      "provenance": []
    },
    "kernelspec": {
      "name": "python3",
      "display_name": "Python 3"
    },
    "language_info": {
      "name": "python"
    }
  },
  "cells": [
    {
      "cell_type": "markdown",
      "source": [
        "# Curso - Introducción a la Ciencia de Datos\n",
        "\n",
        "**Integrantes:**      \n",
        "   * Yeiner David Pájaro Otero   \n",
        "   * Janis Zuñiga Ortega\n",
        "   * María Alejandra Anaya Pérez\n",
        "   * Leidys Guerrero Lobo\n",
        "\n",
        "**Universidad de Antioquia**\n",
        "\n",
        "---"
      ],
      "metadata": {
        "id": "FkCoTBsdJVt3"
      }
    },
    {
      "cell_type": "markdown",
      "source": [
        "Enlace del dataset: https://www.kaggle.com/datasets/mssmartypants/water-quality"
      ],
      "metadata": {
        "id": "-LKE2nDeSVq7"
      }
    },
    {
      "cell_type": "markdown",
      "source": [
        "<div align=\"justify\"><strong><em>Introducción</em></strong></div>\n",
        "\n",
        "<div align=\"justify\">\n",
        "La calidad del agua es un tema crucial para la salud humana y del medio ambiente. El agua es un recurso vital para la supervivencia de los seres vivos y es esencial para la producción de alimentos y la industria. Sin embargo, la calidad del agua en muchas partes del mundo se encuentra comprometida debido a la contaminación de fuentes naturales como ríos, lagos y acuíferos, así como por la actividad humana, como la agricultura intensiva, la industria y la falta de sistemas de tratamiento de aguas residuales adecuados. Esto puede resultar en efectos negativos para la salud pública, la biodiversidad y la economía en general. Por lo tanto, es importante tomar medidas para mejorar la calidad del agua y garantizar la sostenibilidad de este recurso.\n",
        "</div>\n",
        "\n",
        "<div align=\"justify\">\n",
        "Uno de los enfoques más comunes para evaluar la calidad del agua es mediante la clasificación por medio de variables como la cantidad de aluminio, arsénico, bacterias, entre otros elementos presentes en el agua. Estos factores pueden influir en la calidad del agua, y su medición y control son esenciales para garantizar que el agua que se consume no tenga un impacto negativo en la salud de las personas.\n",
        "</div>\n",
        "\n",
        "<div align=\"justify\">\n",
        "La clasificación por medio de variables puede ser realizada mediante diferentes técnicas y métodos, y su uso puede variar según el tipo de agua que se esté evaluando y el objetivo de la evaluación. Es importante considerar que la calidad del agua no solo se relaciona con la presencia de elementos contaminantes, sino también con su olor, sabor y apariencia, lo que puede influir en la aceptabilidad y el consumo del agua por parte de las personas.\n",
        "</div>\n"
      ],
      "metadata": {
        "id": "hDNHR94sKRSu"
      }
    },
    {
      "cell_type": "markdown",
      "source": [
        "<div align=\"justify\"><strong><em>Objetivos</em></strong></div>\n",
        "<ul>\n",
        "  <li>Identificar las características más importantes para determinar la calidad del agua y su impacto en la salud humana y ambiental.</li>  \n",
        "  <li>Desarrollar modelos de clasificación que permitan estimar la calidad del agua en función de las variables seleccionadas.</li>  \n",
        "  <li>Establecer umbrales y criterios de calidad para las variables seleccionadas, de manera que se pueda determinar cuándo el agua es apta para el consumo humano y ambiental..</li>  \n",
        "</ul>"
      ],
      "metadata": {
        "id": "CocQ1LBfREWU"
      }
    },
    {
      "cell_type": "code",
      "source": [
        "# Importar librerias necesarias\n",
        "import pandas as pd\n",
        "import numpy as np\n",
        "import matplotlib.pyplot as plt\n",
        "from scipy import stats\n",
        "import seaborn as sns\n",
        "import plotly.express as px"
      ],
      "metadata": {
        "id": "KRDzK2CMEZvx"
      },
      "execution_count": null,
      "outputs": []
    },
    {
      "cell_type": "code",
      "execution_count": null,
      "metadata": {
        "colab": {
          "base_uri": "https://localhost:8080/"
        },
        "id": "POQA-3hzD7zO",
        "outputId": "c8d183f4-86f5-415e-9f5d-ef5fbcc952f2"
      },
      "outputs": [
        {
          "output_type": "stream",
          "name": "stdout",
          "text": [
            "Drive already mounted at /content/drive; to attempt to forcibly remount, call drive.mount(\"/content/drive\", force_remount=True).\n"
          ]
        }
      ],
      "source": [
        "# Conexión con drive\n",
        "from google.colab import drive\n",
        "drive.mount('/content/drive')"
      ]
    },
    {
      "cell_type": "code",
      "source": [
        "# Lectura de los datos\n",
        "df =pd.read_csv(\"/content/drive/MyDrive/CURSO PYTHON/BASE DE DATOS/waterQuality1 (1).csv\")\n",
        "df "
      ],
      "metadata": {
        "colab": {
          "base_uri": "https://localhost:8080/",
          "height": 424
        },
        "id": "WJIY-6XTECjh",
        "outputId": "b82223ec-e230-4676-e0e6-807c4ce54aaa"
      },
      "execution_count": null,
      "outputs": [
        {
          "output_type": "execute_result",
          "data": {
            "text/plain": [
              "      aluminium ammonia  arsenic  barium  cadmium  chloramine  chromium  \\\n",
              "0          1.65    9.08     0.04    2.85    0.007        0.35      0.83   \n",
              "1          2.32   21.16     0.01    3.31    0.002        5.28      0.68   \n",
              "2          1.01   14.02     0.04    0.58    0.008        4.24      0.53   \n",
              "3          1.36   11.33     0.04    2.96    0.001        7.23      0.03   \n",
              "4          0.92   24.33     0.03    0.20    0.006        2.67      0.69   \n",
              "...         ...     ...      ...     ...      ...         ...       ...   \n",
              "7994       0.05    7.78     0.00    1.95    0.040        0.10      0.03   \n",
              "7995       0.05   24.22     0.02    0.59    0.010        0.45      0.02   \n",
              "7996       0.09    6.85     0.00    0.61    0.030        0.05      0.05   \n",
              "7997       0.01      10     0.01    2.00    0.000        2.00      0.00   \n",
              "7998       0.04    6.85     0.01    0.70    0.030        0.05      0.01   \n",
              "\n",
              "      copper  flouride  bacteria  ...   lead  nitrates  nitrites  mercury  \\\n",
              "0       0.17      0.05      0.20  ...  0.054     16.08      1.13    0.007   \n",
              "1       0.66      0.90      0.65  ...  0.100      2.01      1.93    0.003   \n",
              "2       0.02      0.99      0.05  ...  0.078     14.16      1.11    0.006   \n",
              "3       1.66      1.08      0.71  ...  0.016      1.41      1.29    0.004   \n",
              "4       0.57      0.61      0.13  ...  0.117      6.74      1.11    0.003   \n",
              "...      ...       ...       ...  ...    ...       ...       ...      ...   \n",
              "7994    0.03      1.37      0.00  ...  0.197     14.29      1.00    0.005   \n",
              "7995    0.02      1.48      0.00  ...  0.031     10.27      1.00    0.001   \n",
              "7996    0.02      0.91      0.00  ...  0.182     15.92      1.00    0.000   \n",
              "7997    0.09      0.00      0.00  ...  0.000      0.00      0.00    0.000   \n",
              "7998    0.03      1.00      0.00  ...  0.182     15.92      1.00    0.000   \n",
              "\n",
              "      perchlorate  radium  selenium  silver  uranium  is_safe  \n",
              "0           37.75    6.78      0.08    0.34     0.02        1  \n",
              "1           32.26    3.21      0.08    0.27     0.05        1  \n",
              "2           50.28    7.07      0.07    0.44     0.01        0  \n",
              "3            9.12    1.72      0.02    0.45     0.05        1  \n",
              "4           16.90    2.41      0.02    0.06     0.02        1  \n",
              "...           ...     ...       ...     ...      ...      ...  \n",
              "7994         3.57    2.13      0.09    0.06     0.03        1  \n",
              "7995         1.48    1.11      0.09    0.10     0.08        1  \n",
              "7996         1.35    4.84      0.00    0.04     0.05        1  \n",
              "7997         0.00    0.00      0.00    0.00     0.00        1  \n",
              "7998         1.35    4.84      0.00    0.04     0.05        1  \n",
              "\n",
              "[7999 rows x 21 columns]"
            ],
            "text/html": [
              "\n",
              "  <div id=\"df-8b5070c4-be89-4d1f-959f-35e0636ad359\">\n",
              "    <div class=\"colab-df-container\">\n",
              "      <div>\n",
              "<style scoped>\n",
              "    .dataframe tbody tr th:only-of-type {\n",
              "        vertical-align: middle;\n",
              "    }\n",
              "\n",
              "    .dataframe tbody tr th {\n",
              "        vertical-align: top;\n",
              "    }\n",
              "\n",
              "    .dataframe thead th {\n",
              "        text-align: right;\n",
              "    }\n",
              "</style>\n",
              "<table border=\"1\" class=\"dataframe\">\n",
              "  <thead>\n",
              "    <tr style=\"text-align: right;\">\n",
              "      <th></th>\n",
              "      <th>aluminium</th>\n",
              "      <th>ammonia</th>\n",
              "      <th>arsenic</th>\n",
              "      <th>barium</th>\n",
              "      <th>cadmium</th>\n",
              "      <th>chloramine</th>\n",
              "      <th>chromium</th>\n",
              "      <th>copper</th>\n",
              "      <th>flouride</th>\n",
              "      <th>bacteria</th>\n",
              "      <th>...</th>\n",
              "      <th>lead</th>\n",
              "      <th>nitrates</th>\n",
              "      <th>nitrites</th>\n",
              "      <th>mercury</th>\n",
              "      <th>perchlorate</th>\n",
              "      <th>radium</th>\n",
              "      <th>selenium</th>\n",
              "      <th>silver</th>\n",
              "      <th>uranium</th>\n",
              "      <th>is_safe</th>\n",
              "    </tr>\n",
              "  </thead>\n",
              "  <tbody>\n",
              "    <tr>\n",
              "      <th>0</th>\n",
              "      <td>1.65</td>\n",
              "      <td>9.08</td>\n",
              "      <td>0.04</td>\n",
              "      <td>2.85</td>\n",
              "      <td>0.007</td>\n",
              "      <td>0.35</td>\n",
              "      <td>0.83</td>\n",
              "      <td>0.17</td>\n",
              "      <td>0.05</td>\n",
              "      <td>0.20</td>\n",
              "      <td>...</td>\n",
              "      <td>0.054</td>\n",
              "      <td>16.08</td>\n",
              "      <td>1.13</td>\n",
              "      <td>0.007</td>\n",
              "      <td>37.75</td>\n",
              "      <td>6.78</td>\n",
              "      <td>0.08</td>\n",
              "      <td>0.34</td>\n",
              "      <td>0.02</td>\n",
              "      <td>1</td>\n",
              "    </tr>\n",
              "    <tr>\n",
              "      <th>1</th>\n",
              "      <td>2.32</td>\n",
              "      <td>21.16</td>\n",
              "      <td>0.01</td>\n",
              "      <td>3.31</td>\n",
              "      <td>0.002</td>\n",
              "      <td>5.28</td>\n",
              "      <td>0.68</td>\n",
              "      <td>0.66</td>\n",
              "      <td>0.90</td>\n",
              "      <td>0.65</td>\n",
              "      <td>...</td>\n",
              "      <td>0.100</td>\n",
              "      <td>2.01</td>\n",
              "      <td>1.93</td>\n",
              "      <td>0.003</td>\n",
              "      <td>32.26</td>\n",
              "      <td>3.21</td>\n",
              "      <td>0.08</td>\n",
              "      <td>0.27</td>\n",
              "      <td>0.05</td>\n",
              "      <td>1</td>\n",
              "    </tr>\n",
              "    <tr>\n",
              "      <th>2</th>\n",
              "      <td>1.01</td>\n",
              "      <td>14.02</td>\n",
              "      <td>0.04</td>\n",
              "      <td>0.58</td>\n",
              "      <td>0.008</td>\n",
              "      <td>4.24</td>\n",
              "      <td>0.53</td>\n",
              "      <td>0.02</td>\n",
              "      <td>0.99</td>\n",
              "      <td>0.05</td>\n",
              "      <td>...</td>\n",
              "      <td>0.078</td>\n",
              "      <td>14.16</td>\n",
              "      <td>1.11</td>\n",
              "      <td>0.006</td>\n",
              "      <td>50.28</td>\n",
              "      <td>7.07</td>\n",
              "      <td>0.07</td>\n",
              "      <td>0.44</td>\n",
              "      <td>0.01</td>\n",
              "      <td>0</td>\n",
              "    </tr>\n",
              "    <tr>\n",
              "      <th>3</th>\n",
              "      <td>1.36</td>\n",
              "      <td>11.33</td>\n",
              "      <td>0.04</td>\n",
              "      <td>2.96</td>\n",
              "      <td>0.001</td>\n",
              "      <td>7.23</td>\n",
              "      <td>0.03</td>\n",
              "      <td>1.66</td>\n",
              "      <td>1.08</td>\n",
              "      <td>0.71</td>\n",
              "      <td>...</td>\n",
              "      <td>0.016</td>\n",
              "      <td>1.41</td>\n",
              "      <td>1.29</td>\n",
              "      <td>0.004</td>\n",
              "      <td>9.12</td>\n",
              "      <td>1.72</td>\n",
              "      <td>0.02</td>\n",
              "      <td>0.45</td>\n",
              "      <td>0.05</td>\n",
              "      <td>1</td>\n",
              "    </tr>\n",
              "    <tr>\n",
              "      <th>4</th>\n",
              "      <td>0.92</td>\n",
              "      <td>24.33</td>\n",
              "      <td>0.03</td>\n",
              "      <td>0.20</td>\n",
              "      <td>0.006</td>\n",
              "      <td>2.67</td>\n",
              "      <td>0.69</td>\n",
              "      <td>0.57</td>\n",
              "      <td>0.61</td>\n",
              "      <td>0.13</td>\n",
              "      <td>...</td>\n",
              "      <td>0.117</td>\n",
              "      <td>6.74</td>\n",
              "      <td>1.11</td>\n",
              "      <td>0.003</td>\n",
              "      <td>16.90</td>\n",
              "      <td>2.41</td>\n",
              "      <td>0.02</td>\n",
              "      <td>0.06</td>\n",
              "      <td>0.02</td>\n",
              "      <td>1</td>\n",
              "    </tr>\n",
              "    <tr>\n",
              "      <th>...</th>\n",
              "      <td>...</td>\n",
              "      <td>...</td>\n",
              "      <td>...</td>\n",
              "      <td>...</td>\n",
              "      <td>...</td>\n",
              "      <td>...</td>\n",
              "      <td>...</td>\n",
              "      <td>...</td>\n",
              "      <td>...</td>\n",
              "      <td>...</td>\n",
              "      <td>...</td>\n",
              "      <td>...</td>\n",
              "      <td>...</td>\n",
              "      <td>...</td>\n",
              "      <td>...</td>\n",
              "      <td>...</td>\n",
              "      <td>...</td>\n",
              "      <td>...</td>\n",
              "      <td>...</td>\n",
              "      <td>...</td>\n",
              "      <td>...</td>\n",
              "    </tr>\n",
              "    <tr>\n",
              "      <th>7994</th>\n",
              "      <td>0.05</td>\n",
              "      <td>7.78</td>\n",
              "      <td>0.00</td>\n",
              "      <td>1.95</td>\n",
              "      <td>0.040</td>\n",
              "      <td>0.10</td>\n",
              "      <td>0.03</td>\n",
              "      <td>0.03</td>\n",
              "      <td>1.37</td>\n",
              "      <td>0.00</td>\n",
              "      <td>...</td>\n",
              "      <td>0.197</td>\n",
              "      <td>14.29</td>\n",
              "      <td>1.00</td>\n",
              "      <td>0.005</td>\n",
              "      <td>3.57</td>\n",
              "      <td>2.13</td>\n",
              "      <td>0.09</td>\n",
              "      <td>0.06</td>\n",
              "      <td>0.03</td>\n",
              "      <td>1</td>\n",
              "    </tr>\n",
              "    <tr>\n",
              "      <th>7995</th>\n",
              "      <td>0.05</td>\n",
              "      <td>24.22</td>\n",
              "      <td>0.02</td>\n",
              "      <td>0.59</td>\n",
              "      <td>0.010</td>\n",
              "      <td>0.45</td>\n",
              "      <td>0.02</td>\n",
              "      <td>0.02</td>\n",
              "      <td>1.48</td>\n",
              "      <td>0.00</td>\n",
              "      <td>...</td>\n",
              "      <td>0.031</td>\n",
              "      <td>10.27</td>\n",
              "      <td>1.00</td>\n",
              "      <td>0.001</td>\n",
              "      <td>1.48</td>\n",
              "      <td>1.11</td>\n",
              "      <td>0.09</td>\n",
              "      <td>0.10</td>\n",
              "      <td>0.08</td>\n",
              "      <td>1</td>\n",
              "    </tr>\n",
              "    <tr>\n",
              "      <th>7996</th>\n",
              "      <td>0.09</td>\n",
              "      <td>6.85</td>\n",
              "      <td>0.00</td>\n",
              "      <td>0.61</td>\n",
              "      <td>0.030</td>\n",
              "      <td>0.05</td>\n",
              "      <td>0.05</td>\n",
              "      <td>0.02</td>\n",
              "      <td>0.91</td>\n",
              "      <td>0.00</td>\n",
              "      <td>...</td>\n",
              "      <td>0.182</td>\n",
              "      <td>15.92</td>\n",
              "      <td>1.00</td>\n",
              "      <td>0.000</td>\n",
              "      <td>1.35</td>\n",
              "      <td>4.84</td>\n",
              "      <td>0.00</td>\n",
              "      <td>0.04</td>\n",
              "      <td>0.05</td>\n",
              "      <td>1</td>\n",
              "    </tr>\n",
              "    <tr>\n",
              "      <th>7997</th>\n",
              "      <td>0.01</td>\n",
              "      <td>10</td>\n",
              "      <td>0.01</td>\n",
              "      <td>2.00</td>\n",
              "      <td>0.000</td>\n",
              "      <td>2.00</td>\n",
              "      <td>0.00</td>\n",
              "      <td>0.09</td>\n",
              "      <td>0.00</td>\n",
              "      <td>0.00</td>\n",
              "      <td>...</td>\n",
              "      <td>0.000</td>\n",
              "      <td>0.00</td>\n",
              "      <td>0.00</td>\n",
              "      <td>0.000</td>\n",
              "      <td>0.00</td>\n",
              "      <td>0.00</td>\n",
              "      <td>0.00</td>\n",
              "      <td>0.00</td>\n",
              "      <td>0.00</td>\n",
              "      <td>1</td>\n",
              "    </tr>\n",
              "    <tr>\n",
              "      <th>7998</th>\n",
              "      <td>0.04</td>\n",
              "      <td>6.85</td>\n",
              "      <td>0.01</td>\n",
              "      <td>0.70</td>\n",
              "      <td>0.030</td>\n",
              "      <td>0.05</td>\n",
              "      <td>0.01</td>\n",
              "      <td>0.03</td>\n",
              "      <td>1.00</td>\n",
              "      <td>0.00</td>\n",
              "      <td>...</td>\n",
              "      <td>0.182</td>\n",
              "      <td>15.92</td>\n",
              "      <td>1.00</td>\n",
              "      <td>0.000</td>\n",
              "      <td>1.35</td>\n",
              "      <td>4.84</td>\n",
              "      <td>0.00</td>\n",
              "      <td>0.04</td>\n",
              "      <td>0.05</td>\n",
              "      <td>1</td>\n",
              "    </tr>\n",
              "  </tbody>\n",
              "</table>\n",
              "<p>7999 rows × 21 columns</p>\n",
              "</div>\n",
              "      <button class=\"colab-df-convert\" onclick=\"convertToInteractive('df-8b5070c4-be89-4d1f-959f-35e0636ad359')\"\n",
              "              title=\"Convert this dataframe to an interactive table.\"\n",
              "              style=\"display:none;\">\n",
              "        \n",
              "  <svg xmlns=\"http://www.w3.org/2000/svg\" height=\"24px\"viewBox=\"0 0 24 24\"\n",
              "       width=\"24px\">\n",
              "    <path d=\"M0 0h24v24H0V0z\" fill=\"none\"/>\n",
              "    <path d=\"M18.56 5.44l.94 2.06.94-2.06 2.06-.94-2.06-.94-.94-2.06-.94 2.06-2.06.94zm-11 1L8.5 8.5l.94-2.06 2.06-.94-2.06-.94L8.5 2.5l-.94 2.06-2.06.94zm10 10l.94 2.06.94-2.06 2.06-.94-2.06-.94-.94-2.06-.94 2.06-2.06.94z\"/><path d=\"M17.41 7.96l-1.37-1.37c-.4-.4-.92-.59-1.43-.59-.52 0-1.04.2-1.43.59L10.3 9.45l-7.72 7.72c-.78.78-.78 2.05 0 2.83L4 21.41c.39.39.9.59 1.41.59.51 0 1.02-.2 1.41-.59l7.78-7.78 2.81-2.81c.8-.78.8-2.07 0-2.86zM5.41 20L4 18.59l7.72-7.72 1.47 1.35L5.41 20z\"/>\n",
              "  </svg>\n",
              "      </button>\n",
              "      \n",
              "  <style>\n",
              "    .colab-df-container {\n",
              "      display:flex;\n",
              "      flex-wrap:wrap;\n",
              "      gap: 12px;\n",
              "    }\n",
              "\n",
              "    .colab-df-convert {\n",
              "      background-color: #E8F0FE;\n",
              "      border: none;\n",
              "      border-radius: 50%;\n",
              "      cursor: pointer;\n",
              "      display: none;\n",
              "      fill: #1967D2;\n",
              "      height: 32px;\n",
              "      padding: 0 0 0 0;\n",
              "      width: 32px;\n",
              "    }\n",
              "\n",
              "    .colab-df-convert:hover {\n",
              "      background-color: #E2EBFA;\n",
              "      box-shadow: 0px 1px 2px rgba(60, 64, 67, 0.3), 0px 1px 3px 1px rgba(60, 64, 67, 0.15);\n",
              "      fill: #174EA6;\n",
              "    }\n",
              "\n",
              "    [theme=dark] .colab-df-convert {\n",
              "      background-color: #3B4455;\n",
              "      fill: #D2E3FC;\n",
              "    }\n",
              "\n",
              "    [theme=dark] .colab-df-convert:hover {\n",
              "      background-color: #434B5C;\n",
              "      box-shadow: 0px 1px 3px 1px rgba(0, 0, 0, 0.15);\n",
              "      filter: drop-shadow(0px 1px 2px rgba(0, 0, 0, 0.3));\n",
              "      fill: #FFFFFF;\n",
              "    }\n",
              "  </style>\n",
              "\n",
              "      <script>\n",
              "        const buttonEl =\n",
              "          document.querySelector('#df-8b5070c4-be89-4d1f-959f-35e0636ad359 button.colab-df-convert');\n",
              "        buttonEl.style.display =\n",
              "          google.colab.kernel.accessAllowed ? 'block' : 'none';\n",
              "\n",
              "        async function convertToInteractive(key) {\n",
              "          const element = document.querySelector('#df-8b5070c4-be89-4d1f-959f-35e0636ad359');\n",
              "          const dataTable =\n",
              "            await google.colab.kernel.invokeFunction('convertToInteractive',\n",
              "                                                     [key], {});\n",
              "          if (!dataTable) return;\n",
              "\n",
              "          const docLinkHtml = 'Like what you see? Visit the ' +\n",
              "            '<a target=\"_blank\" href=https://colab.research.google.com/notebooks/data_table.ipynb>data table notebook</a>'\n",
              "            + ' to learn more about interactive tables.';\n",
              "          element.innerHTML = '';\n",
              "          dataTable['output_type'] = 'display_data';\n",
              "          await google.colab.output.renderOutput(dataTable, element);\n",
              "          const docLink = document.createElement('div');\n",
              "          docLink.innerHTML = docLinkHtml;\n",
              "          element.appendChild(docLink);\n",
              "        }\n",
              "      </script>\n",
              "    </div>\n",
              "  </div>\n",
              "  "
            ]
          },
          "metadata": {},
          "execution_count": 73
        }
      ]
    },
    {
      "cell_type": "markdown",
      "source": [
        "<ul>\n",
        "  <li>Mínimo 500 datos.</li>\n",
        "  \n",
        "</ul>\n",
        "<div align=\"justify\">\n",
        "El tamaño del dataset es de (7999,21) lo que cumple con los requisitos minimos para la elección.\n",
        "</div>"
      ],
      "metadata": {
        "id": "EHia7AuVN5fd"
      }
    },
    {
      "cell_type": "code",
      "source": [
        "# Tamaño del dataset\n",
        "df.shape"
      ],
      "metadata": {
        "id": "4uOyXrVzEdZw"
      },
      "execution_count": null,
      "outputs": []
    },
    {
      "cell_type": "code",
      "source": [
        "# Información general del dataset\n",
        "df.info()"
      ],
      "metadata": {
        "id": "ysMKuqh3EgzK"
      },
      "execution_count": null,
      "outputs": []
    },
    {
      "cell_type": "code",
      "source": [
        "# Exploración de los datos\n",
        "df.describe()"
      ],
      "metadata": {
        "id": "-b7-PVkaEkKp"
      },
      "execution_count": null,
      "outputs": []
    },
    {
      "cell_type": "code",
      "source": [
        "# Ver datos nulos\n",
        "df.isnull().sum()"
      ],
      "metadata": {
        "id": "-prjCoj9Eo5o"
      },
      "execution_count": null,
      "outputs": []
    },
    {
      "cell_type": "markdown",
      "source": [
        "<ul>\n",
        "  <li>Mínimo 4 variables y 3 de interés.</li>  \n",
        "</ul>\n",
        "<div align =\"justify\">\n",
        "Las variables escogidas para nuestro caso son:\n",
        "\n",
        "</div>\n",
        "<ul>\n",
        "  <li>Aluminum.</li>  \n",
        "  <li>Bacteria.</li>  \n",
        "  <li>Viruses.</li>  \n",
        "  <li>Mercury.</li> \n",
        "  <li>Copper.</li>   \n",
        "</ul>\n",
        "<div align=\"justify\">\n",
        "Al analizar los datos nullos se encuentra que es un dataset totalmente limpio por lo que es necesario proceder a reemplazar ciertos valores de forma manual para cumplir con los requisitos minimos. Por ello es necesario crear una copia de nuestro dataset para proceder a alterar los datos. Para la elección de nuestras variales tomamos a aluminium bacteria, viruses,mercury y copper dado a que Aluminum es una variable que se utiliza comúnmente para medir la calidad del agua debido a que puede indicar la presencia de contaminantes. Las fuentes de aluminio en el agua incluyen la contaminación por actividades humanas como la minería, la industria y la agricultura. Las bacterias y virus son otros indicadores importantes de la calidad del agua ya que su presencia indica la contaminación microbiológica. El agua contaminada con bacterias y virus puede ser peligrosa para la salud humana y animal. por último el Mercury y copper también son importantes indicadores de la calidad del agua, ya que la presencia de estos metales pesados puede indicar la contaminación por actividades humanas como la minería y la industria. La exposición a metales pesados puede ser tóxica para los humanos y los animales.\n",
        "</div>"
      ],
      "metadata": {
        "id": "P5zqXDqQOlZl"
      }
    },
    {
      "cell_type": "code",
      "source": [
        "df_copy=df[['aluminium','bacteria','viruses','mercury','copper','is_safe']].copy() #Creamos la copia del dataset\n",
        "df_copy.head(10)"
      ],
      "metadata": {
        "id": "1o6DxreHMJ_9"
      },
      "execution_count": null,
      "outputs": []
    },
    {
      "cell_type": "markdown",
      "source": [
        "<div align=\"justify\">\n",
        "Procedemos a almacenar los datos reemplazos por nan para tener información de cuántos datos nulos logramos alterar y de esta manera calcular el porcentaje de datos nulos dentro del dataset. De manera independiente se decide reemplazar los valores números 0.05 y 0.00 de aluminium y bacteria respectivamente por campos vacíos (nan).\n",
        "</div>"
      ],
      "metadata": {
        "id": "5V8ppqrZPaQM"
      }
    },
    {
      "cell_type": "code",
      "source": [
        "# Reemplazar todas las apariciones de los valores 0.05 en la columna aluminium 0.00. \n",
        "# En la columna bacteria con valores NaN y asigna el DataFrame resultante a la variable df_null.\n",
        "df_null=df_copy.replace({'aluminium':{0.05:pd.np.nan},'bacteria':{0.00:pd.np.nan}})"
      ],
      "metadata": {
        "id": "zKpnWRp6MAkv"
      },
      "execution_count": null,
      "outputs": []
    },
    {
      "cell_type": "code",
      "source": [
        "# Información sobre el marco de datos, incluida la cantidad de valores no nulos por cada variable y el tipo de datos de cada columna.\n",
        "df_null.info()"
      ],
      "metadata": {
        "id": "-UcggeouNVH2"
      },
      "execution_count": null,
      "outputs": []
    },
    {
      "cell_type": "code",
      "source": [
        "# Cantidad de datos nulos por cada variable\n",
        "df_null.isnull().sum()"
      ],
      "metadata": {
        "id": "iCS5ma0hNewk"
      },
      "execution_count": null,
      "outputs": []
    },
    {
      "cell_type": "code",
      "source": [
        "# Se calcula el porcentaje de valores faltantes df_nully redondea el resultado a dos decimales.\n",
        "round((df_null.isnull().sum().sum()/df_null.size)*100,2)"
      ],
      "metadata": {
        "id": "82uytU7ENh3k"
      },
      "execution_count": null,
      "outputs": []
    },
    {
      "cell_type": "markdown",
      "source": [
        "<ul>\n",
        "  <li>Mínimo 2% de datos nulos.</li>  \n",
        "</ul>\n",
        "<div align=\"justify\">\n",
        "Se encuentra que una vez reemplazados los valores númericos por datos nulos tenemos que se posee un 8.35% de datos nulos dentro del dataset por lo que se cumple con los requisitos minimos pedidos para la entrega  del trabajo final primera entrega.\n",
        "</div>"
      ],
      "metadata": {
        "id": "EvjS9ZZkNzm2"
      }
    },
    {
      "cell_type": "markdown",
      "source": [
        "<div align=\"justify\"><strong><em><p><font size=\"6\"> Avance segunda entrega proyecto final</font></p> </em></strong></div>"
      ],
      "metadata": {
        "id": "kR268S2rEKkO"
      }
    },
    {
      "cell_type": "markdown",
      "source": [
        "<div align=\"justify\"> Hacer el respectivo preprocesamiento de la base de datos, esto incluye la limpieza de datos, eliminación o sustitución de los datos nulos, selección de las variables de interés, renombrar las columnas si es el caso y gráficos, finalmente un corto vídeo declarando el o los objetivos del proyecto.\n",
        "</div>"
      ],
      "metadata": {
        "id": "5zkEpeHHDjaO"
      }
    },
    {
      "cell_type": "code",
      "source": [
        "# Guardar la información en un diccionario para posteriormente usarla\n",
        "diccionario = df_null[['aluminium','bacteria','viruses']].mean().to_dict()\n",
        "diccionario"
      ],
      "metadata": {
        "id": "mIxH3p_Tz4IH"
      },
      "execution_count": null,
      "outputs": []
    },
    {
      "cell_type": "code",
      "source": [
        "# Visualizar la nueva base de datos\n",
        "df2 = df[['aluminium','bacteria','viruses','copper','mercury','is_safe']].fillna(diccionario) \n",
        "df2"
      ],
      "metadata": {
        "id": "2h6WBp0vQ4k6"
      },
      "execution_count": null,
      "outputs": []
    },
    {
      "cell_type": "code",
      "source": [
        "# Información general de la nueva base datos\n",
        "df2.info()"
      ],
      "metadata": {
        "id": "Y2FfQjIBdu7n"
      },
      "execution_count": null,
      "outputs": []
    },
    {
      "cell_type": "code",
      "source": [
        "# Reemplazar '#NUM!' por NaN en la columna 'is_safe'\n",
        "df2['is_safe'] = df2['is_safe'].replace('#NUM!', np.nan)\n",
        "\n",
        "# Convertir la columna 'is_safe' a tipo float\n",
        "df2['is_safe'] = df2['is_safe'].astype('float64')\n",
        "\n",
        "# Reemplazar los valores NaN por un valor predeterminado (por ejemplo, -1)\n",
        "df2['is_safe'] = df2['is_safe'].fillna(-1)\n",
        "\n",
        "# Convertir la columna 'is_safe' a tipo entero\n",
        "df2['is_safe'] = df2['is_safe'].astype('int64')"
      ],
      "metadata": {
        "id": "F-ZWLwRQOwpy"
      },
      "execution_count": null,
      "outputs": []
    },
    {
      "cell_type": "code",
      "source": [
        "df2.info()"
      ],
      "metadata": {
        "id": "d8khoBUCfdKK"
      },
      "execution_count": null,
      "outputs": []
    },
    {
      "cell_type": "code",
      "source": [
        "# crear un histograma de las columnas en el DataFrame\n",
        "# Los histogramas se usan para análizar el comportamiento de los datos y pueden ser útiles para identificar patrones o anomalías en los datos.\n",
        "df2.hist(figsize=(23, 6));"
      ],
      "metadata": {
        "id": "b06ztG-7qexX"
      },
      "execution_count": null,
      "outputs": []
    },
    {
      "cell_type": "markdown",
      "source": [
        "## Interpretación de las gráficas \n",
        "#### Cuando un histograma tiene un sesgo hacia la derecha, significa que la mayor parte de los datos se agrupan hacia el extremo derecho del eje x, mientras que la cola de la distribución (los valores que se alejan de la media) se extiende hacia la izquierda del pico principal. Esto indica que los valores extremadamente altos son más frecuentes que los valores extremadamente bajos, y que la media es mayor que la mediana."
      ],
      "metadata": {
        "id": "dI9ZToFk0wO0"
      }
    },
    {
      "cell_type": "code",
      "source": [
        "# variable que determina si el agua es segura o no\n",
        "target='is_safe'"
      ],
      "metadata": {
        "id": "MxNt_gJevd36"
      },
      "execution_count": null,
      "outputs": []
    },
    {
      "cell_type": "code",
      "source": [
        "# Visualizar la cantidad de valores únicos para cada variable que no es de tipo de objeto \n",
        "num_col=[]\n",
        "for col in df2.select_dtypes(exclude='object'):\n",
        "    if(col!=target):\n",
        "        print(f\"{col:30} ----> {df2[col].nunique():30} unique values\")\n",
        "        num_col.append(col)"
      ],
      "metadata": {
        "id": "OrJFbwsmtBmb"
      },
      "execution_count": null,
      "outputs": []
    },
    {
      "cell_type": "code",
      "source": [
        "# Análisis exploratorio de datos, lo que permite una rápida visualización y comparación de las distribuciones de las variables en el conjunto de datos.\n",
        "plt.figure(figsize=(30,20))\n",
        "j=1\n",
        "for i,columns in enumerate(num_col):\n",
        "    plt.subplot(5,4,j)\n",
        "    sns.histplot(x=columns,data=df2,kde=True,hue=target)\n",
        "    j+=1\n",
        "plt.tight_layout()"
      ],
      "metadata": {
        "id": "iLVEtbETvrP3"
      },
      "execution_count": null,
      "outputs": []
    },
    {
      "cell_type": "markdown",
      "source": [
        "<div align=\"justify\"> Como ya tenemos seleccionada la base de datos procederemos ahora a analizar sus sesgos. Para ellos es necesario gráficar nuestro modelo para reemplazar los respectivos atributos sea por media, mediana o moda. Antes de hacer cualquier cosa procederemos a hacer una copia a nuestro Data Frame. </div>"
      ],
      "metadata": {
        "id": "FVIBhEtv2-qG"
      }
    },
    {
      "cell_type": "code",
      "source": [
        "# Calcular la media, mediana y moda de los datos\n",
        "mean =print(\"La media de la cantidad de aluminio contenidad en el agua es :\", np.mean(df2['aluminium']))\n",
        "median = print(\"La mediana de la cantidad de aluminio contenidad en el agua es :\", np.median(df2['aluminium']))\n",
        "mode = print(\"La moda de la cantidad de aluminio contenidad en el agua es :\", stats.mode(df2['aluminium'])[0][0])"
      ],
      "metadata": {
        "id": "xZRJOlcIHyHe"
      },
      "execution_count": null,
      "outputs": []
    },
    {
      "cell_type": "code",
      "source": [
        "# Calcular la media, mediana y moda de los datos\n",
        "mean =print(\"La media de la cantidad de bacteria contenidad en el agua es :\", np.mean(df2['bacteria']))\n",
        "median = print(\"La mediana de la cantidad de bacteria contenidad en el agua es :\", np.median(df2['bacteria']))\n",
        "mode = print(\"La moda de la cantidad de bacteria contenidad en el agua es :\", stats.mode(df2['bacteria'])[0][0])"
      ],
      "metadata": {
        "id": "bA3UWOg59Dq1"
      },
      "execution_count": null,
      "outputs": []
    },
    {
      "cell_type": "code",
      "source": [
        "# Calcular la media, mediana y moda de los datos\n",
        "mean =print(\"La media de la cantidad de viruses contenidad en el agua es :\", np.mean(df2['viruses']))\n",
        "median = print(\"La mediana de la cantidad de viruses contenidad en el agua es :\", np.median(df2['viruses']))\n",
        "mode = print(\"La moda de la cantidad de viruses contenidad en el agua es :\", stats.mode(df2['viruses'])[0][0])"
      ],
      "metadata": {
        "id": "VbdS34Xc9Dfd"
      },
      "execution_count": null,
      "outputs": []
    },
    {
      "cell_type": "code",
      "source": [
        "# Calcular la media, mediana y moda de los datos\n",
        "mean =print(\"La media de la cantidad de viruses contenidad en el agua es :\", np.mean(df2['copper']))\n",
        "median = print(\"La mediana de la cantidad de viruses contenidad en el agua es :\", np.median(df2['copper']))\n",
        "mode = print(\"La moda de la cantidad de viruses contenidad en el agua es :\", stats.mode(df2['copper'])[0][0])"
      ],
      "metadata": {
        "id": "C_JJcOAy9DQd"
      },
      "execution_count": null,
      "outputs": []
    },
    {
      "cell_type": "code",
      "source": [
        "# Calcular la media, mediana y moda de los datos\n",
        "mean =print(\"La media de la cantidad de viruses contenidad en el agua es :\", np.mean(df2['mercury']))\n",
        "median = print(\"La mediana de la cantidad de viruses contenidad en el agua es :\", np.median(df2['mercury']))\n",
        "mode = print(\"La moda de la cantidad de viruses contenidad en el agua es :\", stats.mode(df2['mercury'])[0][0])"
      ],
      "metadata": {
        "id": "TfccI_Xi-FYk"
      },
      "execution_count": null,
      "outputs": []
    },
    {
      "cell_type": "code",
      "source": [
        "fig, axs = plt.subplots(2, 3, figsize=(15, 5))\n",
        "\n",
        "#Definimos para aluminium\n",
        "\n",
        "mean_aluminium = df2['aluminium'].mean()\n",
        "median_aluminium = df2['aluminium'].median()\n",
        "mode_aluminium = df2['aluminium'].mode()[0]\n",
        "\n",
        "\n",
        "#Definimos para bacteria\n",
        "mean_bacteria = df2['bacteria'].mean()\n",
        "median_bacteria = df2['bacteria'].median()\n",
        "mode_bacteria = df2['bacteria'].mode()[0]\n",
        "\n",
        "\n",
        "#Definimos para viruses\n",
        "mean_viruses = df2['viruses'].mean()\n",
        "median_viruses = df2['viruses'].median()\n",
        "mode_viruses = df2['viruses'].mode()[0]\n",
        "\n",
        "#Definimos para copper\n",
        "mean_copper = df2['copper'].mean()\n",
        "median_copper = df2['copper'].median()\n",
        "mode_copper = df2['copper'].mode()[0]\n",
        "\n",
        "#Definimos para mercury\n",
        "mean_mercury = df2['mercury'].mean()\n",
        "median_mercury = df2['mercury'].median()\n",
        "mode_mercury = df2['mercury'].mode()[0]\n",
        "\n",
        "\n",
        "\n",
        "#Histograma para aluminium\n",
        "axs[0][0].hist(df2['aluminium'], bins=25, alpha=0.5)\n",
        "axs[0][0].set_title('Histograma - Aluminium')\n",
        "axs[0][0].axvline(x=mean_aluminium, color='r', linestyle=':', label='Media')\n",
        "axs[0][0].set_xlim([0, mean_aluminium*1.1])\n",
        "axs[0][0].axvline(median_aluminium, color='g', linestyle=':', label='Mediana')\n",
        "axs[0][0].axvline(mode_aluminium, color='b', linestyle=':', label='Moda')\n",
        "axs[0][0].legend()\n",
        "\n",
        "#Graficamos el boxplot para aluminium\n",
        "axs[1][0].boxplot(df2['aluminium'], vert=False)\n",
        "axs[1][0].set_title('Boxplot - Aluminium')\n",
        "\n",
        "#histograma para bacteria\n",
        "\n",
        "axs[0][1].hist(df2['bacteria'], bins=25, alpha=0.5)\n",
        "axs[0][1].set_title('Histograma - Bacteria')\n",
        "axs[0][1].axvline(x=mean_bacteria, color='r', linestyle=':', label='Media')\n",
        "axs[0][1].set_xlim([0, mean_bacteria*1.1])\n",
        "axs[0][1].axvline(median_bacteria, color='g', linestyle=':', label='Mediana')\n",
        "axs[0][1].axvline(mode_bacteria, color='b', linestyle=':', label='Moda')\n",
        "axs[0][1].legend()\n",
        "\n",
        "#Graficamos el boxplot para bacteria\n",
        "axs[1][1].boxplot(df2['bacteria'], vert=False)\n",
        "axs[1][1].set_title('Boxplot - Bacteria')\n",
        "\n",
        "#Histograma para viruses\n",
        "\n",
        "axs[0][2].hist(df2['viruses'], bins=25, alpha=0.5)\n",
        "axs[0][2].set_title('Histograma - Viruses')\n",
        "axs[0][2].axvline(x=mean_viruses, color='r', linestyle=':', label='Media')\n",
        "axs[0][2].set_xlim([0, mean_viruses*1.1])\n",
        "axs[0][2].axvline(median_viruses, color='g', linestyle=':', label='Mediana')\n",
        "axs[0][2].axvline(mode_viruses, color='b', linestyle=':', label='Moda')\n",
        "axs[0][2].legend()\n",
        "\n",
        "#Graficamos el boxplot para viruses\n",
        "axs[1][2].boxplot(df2['viruses'], vert=False)\n",
        "axs[1][2].set_title('Boxplot - Viruses')\n",
        "\n",
        "\n",
        "plt.subplots_adjust(hspace=0.5)\n",
        "plt.show()"
      ],
      "metadata": {
        "id": "h-cuaeZZEkrZ",
        "colab": {
          "base_uri": "https://localhost:8080/",
          "height": 468
        },
        "outputId": "8ed20c76-ef2f-423e-d11a-25cbf5e28d82"
      },
      "execution_count": null,
      "outputs": [
        {
          "output_type": "display_data",
          "data": {
            "text/plain": [
              "<Figure size 1500x500 with 6 Axes>"
            ],
            "image/png": "[encoded data removed]"
          },
          "metadata": {}
        }
      ]
    },
    {
      "cell_type": "markdown",
      "source": [
        "El boxplot para aluminium muestra muchos datos atipicos por lo cual es necesario optar por otra variable objetivo. "
      ],
      "metadata": {
        "id": "FYpoH4ModPqC"
      }
    },
    {
      "cell_type": "code",
      "source": [
        "fig, axs = plt.subplots(2, 2, figsize=(15, 5))\n",
        "\n",
        "#Histograma para copper\n",
        "axs[0][0].hist(df2['copper'], bins=25, alpha=0.5)\n",
        "axs[0][0].set_title('Histograma - Copper')\n",
        "axs[0][0].axvline(x=mean_aluminium, color='r', linestyle=':', label='Media')\n",
        "axs[0][0].set_xlim([0, mean_copper*1.1])\n",
        "axs[0][0].axvline(median_copper, color='g', linestyle=':', label='Mediana')\n",
        "axs[0][0].axvline(mode_copper, color='b', linestyle=':', label='Moda')\n",
        "axs[0][0].legend()\n",
        "\n",
        "#Graficamos el boxplot para aluminium\n",
        "axs[1][0].boxplot(df2['copper'], vert=False)\n",
        "axs[1][0].set_title('Boxplot - Copper')\n",
        "\n",
        "#histograma para mercury\n",
        "\n",
        "axs[0][1].hist(df2['mercury'], bins=25, alpha=0.5)\n",
        "axs[0][1].set_title('Histograma - Mercury')\n",
        "axs[0][1].axvline(x=mean_mercury, color='r', linestyle=':', label='Media')\n",
        "axs[0][1].set_xlim([0, mean_mercury*1.1])\n",
        "axs[0][1].axvline(median_mercury, color='g', linestyle=':', label='Mediana')\n",
        "axs[0][1].axvline(mode_mercury, color='b', linestyle=':', label='Moda')\n",
        "axs[0][1].legend()\n",
        "\n",
        "#Graficamos el boxplot para bacteria\n",
        "axs[1][1].boxplot(df2['mercury'], vert=False)\n",
        "axs[1][1].set_title('Boxplot - Mercury')\n",
        "\n",
        "plt.subplots_adjust(hspace=0.5)\n",
        "plt.show()"
      ],
      "metadata": {
        "id": "ClfNGDbdKC03",
        "colab": {
          "base_uri": "https://localhost:8080/",
          "height": 468
        },
        "outputId": "7fec95f1-56a2-4578-9666-4bc02b0bacc3"
      },
      "execution_count": null,
      "outputs": [
        {
          "output_type": "display_data",
          "data": {
            "text/plain": [
              "<Figure size 1500x500 with 4 Axes>"
            ],
            "image/png": "[encoded data removed]"
          },
          "metadata": {}
        }
      ]
    },
    {
      "cell_type": "code",
      "source": [
        "#Obtener matriz de correlación (coeficiente de correlación de pearson)\n",
        "corr_matrix = df2.corr()\n",
        "#Definir umbral para identificar variables altamente correlacionadas\n",
        "umbral = 0.01\n",
        "#Definir filtro \n",
        "filter_ = np.abs(corr_matrix[\"is_safe\"]) > umbral\n",
        "#Obtener variables altamente correlacionadas\n",
        "corr_features = corr_matrix.columns[filter_].tolist()\n",
        "#Visualización de matriz de correlación\n",
        "plt.figure(figsize = (12, 8))\n",
        "sns.heatmap(df2[corr_features].corr(), annot = True, cmap = sns.cubehelix_palette(as_cmap=True), fmt = \".2f\")\n",
        "plt.title(\"Correlación entre variables (Umbral: {})\".format(umbral))"
      ],
      "metadata": {
        "id": "PxecJYU2qxeV",
        "colab": {
          "base_uri": "https://localhost:8080/",
          "height": 716
        },
        "outputId": "3eb2ac39-48a5-4aaa-f34b-5a2b5d403ef7"
      },
      "execution_count": null,
      "outputs": [
        {
          "output_type": "execute_result",
          "data": {
            "text/plain": [
              "Text(0.5, 1.0, 'Correlación entre variables (Umbral: 0.01)')"
            ]
          },
          "metadata": {},
          "execution_count": 75
        },
        {
          "output_type": "display_data",
          "data": {
            "text/plain": [
              "<Figure size 1200x800 with 2 Axes>"
            ],
            "image/png": "[encoded data removed]"
          },
          "metadata": {}
        }
      ]
    },
    {
      "cell_type": "code",
      "source": [
        "corr = df2.corr() \n",
        "corr.style.background_gradient(cmap='coolwarm')"
      ],
      "metadata": {
        "id": "JfCeYl2m66Jo"
      },
      "execution_count": null,
      "outputs": []
    },
    {
      "cell_type": "code",
      "source": [
        "plt.figure(figsize=(10,5))\n",
        "sns.pairplot(df2,hue=target, diag_kind = 'kde')\n",
        "plt.show()"
      ],
      "metadata": {
        "id": "x5SOuj-4xQLn"
      },
      "execution_count": null,
      "outputs": []
    },
    {
      "cell_type": "markdown",
      "source": [
        "Entrenamiento del modelo"
      ],
      "metadata": {
        "id": "9OpCu9bPwD-w"
      }
    },
    {
      "cell_type": "code",
      "source": [
        "X = df2.drop(['is_safe'],axis = 1)\n",
        "y = df2['is_safe']\n",
        "X.head(5)"
      ],
      "metadata": {
        "id": "KPgczss6rwpl"
      },
      "execution_count": null,
      "outputs": []
    },
    {
      "cell_type": "markdown",
      "source": [
        "Entrenamiento del modelo"
      ],
      "metadata": {
        "id": "_Z_5Qp_ByIJW"
      }
    },
    {
      "cell_type": "code",
      "source": [
        "from sklearn.model_selection import train_test_split\n",
        "\n",
        "\n",
        "X_train , X_test, y_train, y_test = train_test_split(X, y , test_size=0.2, random_state=42)"
      ],
      "metadata": {
        "id": "p7sSA-gFwPsZ"
      },
      "execution_count": null,
      "outputs": []
    },
    {
      "cell_type": "code",
      "source": [
        "from sklearn.linear_model import LogisticRegression\n",
        "lr = LogisticRegression()\n",
        "lr.fit(X_train,y_train)"
      ],
      "metadata": {
        "id": "gsCVYfNhwXfn"
      },
      "execution_count": null,
      "outputs": []
    },
    {
      "cell_type": "code",
      "source": [
        "y_predict = lr.predict(X_test)\n",
        "y_predict"
      ],
      "metadata": {
        "id": "ladPmz3gwbkH"
      },
      "execution_count": null,
      "outputs": []
    },
    {
      "cell_type": "code",
      "source": [
        "from sklearn.metrics import accuracy_score\n",
        "score = accuracy_score(y_test, y_predict)\n",
        "score"
      ],
      "metadata": {
        "id": "omSAIu0_ye1s"
      },
      "execution_count": null,
      "outputs": []
    }
  ]
}